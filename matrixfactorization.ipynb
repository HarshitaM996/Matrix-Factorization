{
  "nbformat": 4,
  "nbformat_minor": 0,
  "metadata": {
    "colab": {
      "name": "harshi ml assignment.ipynb",
      "provenance": [],
      "collapsed_sections": []
    },
    "kernelspec": {
      "name": "python3",
      "display_name": "Python 3"
    }
  },
  "cells": [
    {
      "cell_type": "code",
      "metadata": {
        "id": "pYtuVVQ5cDSQ"
      },
      "source": [
        "class matrix_factorization():\r\n",
        "\r\n",
        "    def __init__(self,data,features):\r\n",
        "        import numpy as np\r\n",
        "        self.data = data\r\n",
        "        self.features = features\r\n",
        "        self.L_count = data.shape[0]\r\n",
        "        self.U_count = data.shape[1]\r\n",
        "        self.L = np.random.uniform(low=0.1,high=0.9,size=(self.L_count,self.features))\r\n",
        "        self.U = np.random.uniform(low=0.1,high=0.9,size=(self.features,self.U_count))\r\n",
        "    \r\n",
        "    def single_gradient(self,user_row,item_col,wrt_user_idx=None,wrt_item_idx=None):\r\n",
        "        row = self.L[user_row,:]\r\n",
        "        col = self.U[:,item_col]\r\n",
        "        rank = float(self.data[user_row,item_col])\r\n",
        "        next = float(np.dot(row,col))\r\n",
        "\r\n",
        "        if wrt_user_idx != None:\r\n",
        "            row_elem = float(col[wrt_user_idx]) \r\n",
        "            gradient = 2*(rank - next)*row_elem\r\n",
        "        else:\r\n",
        "            col_elem = float(row[wrt_item_idx])\r\n",
        "            gradient = 2*(rank - next)*col_elem\r\n",
        "        return gradient\r\n",
        "                \r\n",
        "    def train_model(self,learning_rate=0.1,iterations=700):   \r\n",
        "        for c in range(iterations):\r\n",
        "            for i in range(0,self.L_count):\r\n",
        "                for j in range(0,self.features):\r\n",
        "                    self.L[i,j] += learning_rate*(sum([self.single_gradient(user_row=i,item_col=col,wrt_user_idx=j) for col in range(0,self.U_count)])/self.U_count)\r\n",
        "            for i in range(0,self.features):\r\n",
        "                for j in range(0,self.U_count):\r\n",
        "                    self.U[i,j] += learning_rate*sum([self.single_gradient(user_row=row,item_col=j,wrt_item_idx=i) for row in range(0,self.L_count)])/self.L_count"
      ],
      "execution_count": 5,
      "outputs": []
    },
    {
      "cell_type": "code",
      "metadata": {
        "colab": {
          "base_uri": "https://localhost:8080/"
        },
        "id": "hJp23elxcDxv",
        "outputId": "81c4bdd2-208e-4b7b-9756-b4b3eb5dd750"
      },
      "source": [
        "import numpy as np\r\n",
        "# trying gradiant descent with 2 features\r\n",
        "data = np.array([[1,2,3],[1,2,3],[1,2,3],[1,2,3],[1,2,3],[1,2,3]]) # input matrix here\r\n",
        "fac = matrix_factorization(data = data, features = 2) # number of features\r\n",
        "fac.train_model(learning_rate=.1)\r\n",
        "np.dot(fac.L,fac.U)"
      ],
      "execution_count": 10,
      "outputs": [
        {
          "output_type": "execute_result",
          "data": {
            "text/plain": [
              "array([[0.99978015, 2.00119378, 2.99927853],\n",
              "       [1.00024682, 1.99865976, 3.00080998],\n",
              "       [0.99994619, 2.00029217, 2.99982342],\n",
              "       [0.99982684, 2.00094025, 2.99943176],\n",
              "       [0.9999308 , 2.00037577, 2.9997729 ],\n",
              "       [1.00026004, 1.99858803, 3.00085333]])"
            ]
          },
          "metadata": {
            "tags": []
          },
          "execution_count": 10
        }
      ]
    },
    {
      "cell_type": "code",
      "metadata": {
        "colab": {
          "base_uri": "https://localhost:8080/"
        },
        "id": "DMRth8-GcH3B",
        "outputId": "f9bc10b7-dbc5-4d7f-ee75-d7ed9f2ee946"
      },
      "source": [
        "# trying the same matrix with 13 features, it reaches the original matrix in this case\r\n",
        "fac = matrix_factorization(data = data, features = 13)\r\n",
        "fac.train_model(learning_rate=.1)\r\n",
        "np.dot(fac.L,fac.U)"
      ],
      "execution_count": 12,
      "outputs": [
        {
          "output_type": "execute_result",
          "data": {
            "text/plain": [
              "array([[1., 2., 3.],\n",
              "       [1., 2., 3.],\n",
              "       [1., 2., 3.],\n",
              "       [1., 2., 3.],\n",
              "       [1., 2., 3.],\n",
              "       [1., 2., 3.]])"
            ]
          },
          "metadata": {
            "tags": []
          },
          "execution_count": 12
        }
      ]
    },
    {
      "cell_type": "code",
      "metadata": {
        "colab": {
          "base_uri": "https://localhost:8080/"
        },
        "id": "hKnL6iMLeGRT",
        "outputId": "6518349a-f2e6-492e-be11-0b75463cfc55"
      },
      "source": [
        "# try your inputs here!\r\n",
        "data = np.array([[1,2,3],[1,2,3],[1,2,3],[1,2,3],[1,2,3],[1,2,3]]) # input matrix here\r\n",
        "features = 13 # change this integer to give different input values for number of features\r\n",
        "fac = matrix_factorization(data = data, features = features)\r\n",
        "fac.train_model(learning_rate=.1) #Adjust learning rate here\r\n",
        "print(\"Number of features:\", features)\r\n",
        "print(\"Original Matrix:\\n\", data)\r\n",
        "print(\"\\nOutput Matrix:\\n\", np.dot(fac.L,fac.U))"
      ],
      "execution_count": 19,
      "outputs": [
        {
          "output_type": "stream",
          "text": [
            "Number of features: 13\n",
            "Original Matrix:\n",
            " [[1 2 3]\n",
            " [1 2 3]\n",
            " [1 2 3]\n",
            " [1 2 3]\n",
            " [1 2 3]\n",
            " [1 2 3]]\n",
            "\n",
            "Output Matrix:\n",
            " [[1. 2. 3.]\n",
            " [1. 2. 3.]\n",
            " [1. 2. 3.]\n",
            " [1. 2. 3.]\n",
            " [1. 2. 3.]\n",
            " [1. 2. 3.]]\n"
          ],
          "name": "stdout"
        }
      ]
    }
  ]
}